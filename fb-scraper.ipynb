{
 "cells": [
  {
   "cell_type": "code",
   "execution_count": 2,
   "metadata": {},
   "outputs": [],
   "source": [
    "import json\n",
    "import os\n",
    "import sys\n",
    "import urllib.request\n",
    "import yaml\n",
    "# import utils\n",
    "import argparse\n",
    "\n",
    "from selenium import webdriver\n",
    "from selenium.common.exceptions import NoSuchElementException\n",
    "from selenium.webdriver.chrome.options import Options\n",
    "from selenium.webdriver.common.by import By\n",
    "from selenium.webdriver.support import expected_conditions as EC\n",
    "from selenium.webdriver.support.ui import WebDriverWait\n",
    "# !pip install webdriver_manager\n",
    "from webdriver_manager.chrome import ChromeDriverManager"
   ]
  },
  {
   "cell_type": "code",
   "execution_count": 3,
   "metadata": {},
   "outputs": [
    {
     "data": {
      "text/plain": [
       "'3.141.0'"
      ]
     },
     "execution_count": 3,
     "metadata": {},
     "output_type": "execute_result"
    }
   ],
   "source": [
    "import selenium\n",
    "selenium.__version__"
   ]
  },
  {
   "cell_type": "code",
   "execution_count": 4,
   "metadata": {},
   "outputs": [],
   "source": [
    "selectors = {\n",
    "  \"facebook_https_prefix\": \"https://\",\n",
    "  \"facebook_link_body\": \".facebook.com/\",\n",
    "  }"
   ]
  },
  {
   "cell_type": "code",
   "execution_count": 5,
   "metadata": {},
   "outputs": [],
   "source": [
    "facebook_https_prefix = selectors.get(\"facebook_https_prefix\")\n",
    "facebook_link_body = selectors.get(\"facebook_link_body\")"
   ]
  },
  {
   "cell_type": "code",
   "execution_count": 6,
   "metadata": {},
   "outputs": [],
   "source": [
    "driver = None"
   ]
  },
  {
   "cell_type": "code",
   "execution_count": 7,
   "metadata": {},
   "outputs": [],
   "source": [
    "def init():\n",
    "        global driver\n",
    "\n",
    "        options = Options()\n",
    "\n",
    "        #  Code to disable notifications pop up of Chrome Browser\n",
    "        options.add_argument(\"--disable-notifications\")\n",
    "        options.add_argument(\"--disable-infobars\")\n",
    "        options.add_argument(\"--mute-audio\")\n",
    "        # options.add_argument(\"headless\")\n",
    "\n",
    "        try:\n",
    "            driver = webdriver.Chrome(\n",
    "                executable_path=ChromeDriverManager().install(), options=options\n",
    "            )\n",
    "            \n",
    "        except Exception:\n",
    "            print(\"Error loading chrome webdriver \" + sys.exc_info()[0])\n",
    "            exit(1)"
   ]
  },
  {
   "cell_type": "code",
   "execution_count": 8,
   "metadata": {},
   "outputs": [],
   "source": [
    "def login(email, password):\n",
    "    \"\"\" Logging into our own profile \"\"\"\n",
    "\n",
    "    try:\n",
    "        \n",
    "\n",
    "        fb_path = facebook_https_prefix + facebook_link_body\n",
    "#         print('ok')\n",
    "        driver.get(fb_path)\n",
    "        driver.maximize_window()\n",
    "\n",
    "        # filling the form\n",
    "        driver.find_element_by_name(\"email\").send_keys(email)\n",
    "        driver.find_element_by_name(\"pass\").send_keys(password)\n",
    "\n",
    "        try:\n",
    "            # clicking on login button\n",
    "            driver.find_element_by_id(\"loginbutton\").click()\n",
    "        except NoSuchElementException:\n",
    "            # Facebook new design\n",
    "            driver.find_element_by_name(\"login\").click()\n",
    "\n",
    "\n",
    "    except Exception:\n",
    "        print(\"There's some error in log in.\")\n",
    "        print(sys.exc_info()[0])\n",
    "        exit(1)\n"
   ]
  },
  {
   "cell_type": "code",
   "execution_count": 9,
   "metadata": {},
   "outputs": [],
   "source": [
    "def scroll(total_scrolls, driver, scroll_time):\n",
    "    global old_height\n",
    "    current_scrolls = 0\n",
    "\n",
    "    while True:\n",
    "        try:\n",
    "            if current_scrolls == total_scrolls:\n",
    "                return\n",
    "\n",
    "            old_height = driver.execute_script(\"return document.body.scrollHeight\")\n",
    "            driver.execute_script(\"window.scrollTo(0, document.body.scrollHeight);\")\n",
    "            WebDriverWait(driver, scroll_time, 0.05).until(\n",
    "                lambda driver: check_height(driver, old_height)\n",
    "            )\n",
    "            current_scrolls += 1\n",
    "        except TimeoutException:\n",
    "            break\n",
    "\n",
    "    return"
   ]
  },
  {
   "cell_type": "code",
   "execution_count": 10,
   "metadata": {},
   "outputs": [],
   "source": [
    "def loadlink(link):\n",
    "    driver.get(link)"
   ]
  },
  {
   "cell_type": "code",
   "execution_count": 11,
   "metadata": {},
   "outputs": [],
   "source": [
    "# check if height changed\n",
    "def check_height(driver, old_height):\n",
    "    new_height = driver.execute_script(\"return document.body.scrollHeight\")\n",
    "    return new_height != old_height"
   ]
  },
  {
   "cell_type": "code",
   "execution_count": 12,
   "metadata": {},
   "outputs": [
    {
     "name": "stderr",
     "output_type": "stream",
     "text": [
      "[WDM] - Current google-chrome version is 86.0.4240\n",
      "[WDM] - Get LATEST driver version for 86.0.4240\n"
     ]
    },
    {
     "name": "stdout",
     "output_type": "stream",
     "text": [
      " \n"
     ]
    },
    {
     "name": "stderr",
     "output_type": "stream",
     "text": [
      "[WDM] - Driver [C:\\Users\\roey3\\.wdm\\drivers\\chromedriver\\win32\\86.0.4240.22\\chromedriver.exe] found in cache\n"
     ]
    }
   ],
   "source": [
    "init()\n",
    "email = ''\n",
    "password = ''\n",
    "login(email,password)"
   ]
  },
  {
   "cell_type": "code",
   "execution_count": 13,
   "metadata": {},
   "outputs": [],
   "source": [
    "fbUser = ''\n",
    "loadlink('https://www.facebook.com/'+fbUser)"
   ]
  },
  {
   "cell_type": "code",
   "execution_count": 14,
   "metadata": {},
   "outputs": [],
   "source": [
    "scroll(3,driver,10)"
   ]
  },
  {
   "cell_type": "code",
   "execution_count": 16,
   "metadata": {},
   "outputs": [],
   "source": [
    "html = driver.execute_script(\"return document.documentElement.outerHTML;\")"
   ]
  },
  {
   "cell_type": "code",
   "execution_count": 20,
   "metadata": {},
   "outputs": [],
   "source": [
    "with open(f\"fb{fbUser}.html\", 'w', encoding='utf-8') as f:\n",
    "    f.write(html)\n",
    "f.close()"
   ]
  }
 ],
 "metadata": {
  "kernelspec": {
   "display_name": "Python 3",
   "language": "python",
   "name": "python3"
  },
  "language_info": {
   "codemirror_mode": {
    "name": "ipython",
    "version": 3
   },
   "file_extension": ".py",
   "mimetype": "text/x-python",
   "name": "python",
   "nbconvert_exporter": "python",
   "pygments_lexer": "ipython3",
   "version": "3.8.3"
  }
 },
 "nbformat": 4,
 "nbformat_minor": 4
}
